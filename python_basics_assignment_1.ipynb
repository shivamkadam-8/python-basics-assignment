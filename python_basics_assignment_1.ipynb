{
  "nbformat": 4,
  "nbformat_minor": 0,
  "metadata": {
    "colab": {
      "provenance": []
    },
    "kernelspec": {
      "name": "python3",
      "display_name": "Python 3"
    },
    "language_info": {
      "name": "python"
    }
  },
  "cells": [
    {
      "cell_type": "markdown",
      "source": [
        "# ***PYTHON BASICS ASSIGNMENT***"
      ],
      "metadata": {
        "id": "clnfQ1h0J1rV"
      }
    },
    {
      "cell_type": "markdown",
      "source": [
        "## **1)What is Python,and why is it popular?**\n",
        "\n",
        "Ans:-Python is a high-level, interpreted programming language known for simplicity and readibility.this language was created by Guido van Rossum and was firstly released in 1991,python is popular for the following reasons:-\n",
        "\n",
        "a)It is widely used in the industry.\n",
        "\n",
        "b)Python's syntax is clear and easy to read,which make it an excellent choice for beginners and experienced developers.\n",
        "\n",
        "c)Python is versatile in nature it can be used for the various types of programming including,web development,data analysis,artificial intelligence,scientific computing,automation and more.\n",
        "\n",
        "d)Python has a large and active community of developers who contribute to its development, create libraries, and provide support through forums, tutorials, and documentation.\n",
        "\n",
        "e)Python is available on various operating systems, including Windows, macOS, and Linux, making it a cross-platform language that can run on different systems without modification.\n",
        "\n",
        "f)Python language is easy to learn.\n",
        "\n",
        "g)Python's simplicity and the availability of libraries and frameworks enable rapid development and prototyping.\n",
        "\n",
        "\n"
      ],
      "metadata": {
        "id": "yoPBgNHwKBpW"
      }
    },
    {
      "cell_type": "markdown",
      "source": [
        "## **2)What is an interpreter in Python?**\n",
        "Ans:-An interpreter in Python is a program that executes Python code directly, translating it line by line into machine instructions that the computer can execute. Unlike compilers, which translate the entire code into machine language before execution, interpreters process the code at runtime. Here's a more detailed explanation:\n",
        "\n",
        "1)Execution Line by Line: The interpreter reads Python code line by line, translates each line into an intermediate form (often bytecode), and then executes it. This allows for interactive coding and debugging since you can run and test small sections of code independently.\n",
        "\n",
        "2)Interactive Mode: Python interpreters provide an interactive mode, where you can enter and execute code in a command-line interface (CLI). This is useful for testing, learning, and experimenting with code snippets.\n",
        "\n",
        "3)Dynamic Typing: Since Python is dynamically typed, the interpreter handles type checking at runtime. This means you don't need to declare variable types explicitly, making the language more flexible but also potentially slower in execution compared to statically typed languages.\n",
        "\n",
        "4)Portability: Python's interpreter is available on various platforms, including Windows, macOS, and Linux. This means that Python code written on one platform can run on another without modification, provided the necessary interpreter is installed.\n",
        "\n",
        "5)Standard Python Interpreter (CPython): The default and most widely used Python interpreter is CPython, written in C. It compiles Python code into bytecode and then interprets this bytecode using a virtual machine. CPython is known for its robustness and extensive support for Python libraries."
      ],
      "metadata": {
        "id": "ND6532zMQCx8"
      }
    },
    {
      "cell_type": "markdown",
      "source": [
        "## **3)What are pre-defined keywords in Python?**\n",
        "Ans:-Pre-defined keywords in Python are reserved words that have special meanings and purposes within the language. These keywords are part of the Python syntax and cannot be used as identifiers\n",
        "\n",
        "a)False: Represents the boolean value false.\n",
        "\n",
        "b)None: Represents the absence of a value or a null value.\n",
        "\n",
        "c)True: Represents the boolean value true.\n",
        "\n",
        "d)del: Deletes objects.\n",
        "\n",
        "e)elif: Stands for \"else if\"; used in conditional statements.\n",
        "\n",
        "f)else: Used in conditional statements and loops; executes a\n",
        "block of code if the condition is false.\n",
        "\n",
        "g)return: Exits a function and returns a value.\n",
        "\n",
        "h)while: Creates a while loop."
      ],
      "metadata": {
        "id": "xLLkSLYSWeA5"
      }
    },
    {
      "cell_type": "markdown",
      "source": [
        "## **4)Can keywords be used as variable names?**\n",
        "Ans:-No, keywords in Python cannot be used as variable names. Keywords are reserved words that have special meanings and functions in the language, and using them as identifiers (such as variable names, function names, or class names) would cause a syntax error. This is because the interpreter recognizes these words as having specific purposes and expects them to be used in those contexts."
      ],
      "metadata": {
        "id": "BQluLMJzZgze"
      }
    },
    {
      "cell_type": "markdown",
      "source": [
        "## **5)What is mutability in Python?**\n",
        "Ans:-Mutability in Python refers to the ability of an object to be changed after it has been created.\n",
        "Python objects are classified as mutable and immutable."
      ],
      "metadata": {
        "id": "uHdh3mDJaCLG"
      }
    },
    {
      "cell_type": "markdown",
      "source": [
        "## **6)Why are lists mutable, but tuples are immutable?**\n",
        "Ans:-a)The mutability of lists and the immutability of tuples in Python are intentional design choices, influenced by their intended use cases and the benefits each type provides.\n",
        "\n",
        "b)Lists are mutable to provide flexibility for dynamic collections of items, while tuples are immutable to offer safety, efficiency, and clarity for fixed collections. This distinction allows Python to cater to a wide range of programming needs and use cases."
      ],
      "metadata": {
        "id": "A4jYcLH3a_5a"
      }
    },
    {
      "cell_type": "markdown",
      "source": [
        "## **7)What is the difference between “==” and “is” operators in Python?**\n",
        "\n",
        "Ans:-In Python, the == operator and the 'is' operator serve different purposes:\n",
        "\n",
        "a)== Operator (Equality):-\n",
        "The == operator checks for equality of value. It compares the values of the objects on either side of the operator to see if they are equivalent.\n",
        "\n",
        "b)'is' Operator (Identity):-The is operator checks for identity. It compares the memory addresses of the objects to see if they are the exact same object.\n"
      ],
      "metadata": {
        "id": "0zYh5wJyfM_a"
      }
    },
    {
      "cell_type": "markdown",
      "source": [
        "## **8)What are logical operators in Python?**\n",
        "\n",
        "Ans:-In Python, logical operators are used to combine conditional statements or Boolean expressions. They evaluate the truth value of expressions and return a Boolean result (True or False). The three main logical operators in Python are:-\n",
        "\n",
        "a)and Operator:-\n",
        "The and operator returns True if both conditions (or expressions) on either side of it are True. If either condition is False, the result is False.\n",
        "\n",
        "b)or Operator:\n",
        "The or operator returns True if at least one of the conditions (or expressions) on either side of it is True. If both conditions are False, the result is False.\n",
        "\n",
        "c)not Operator:\n",
        "The not operator negates the truth value of the condition or expression that follows it. If the condition is True, it returns False; if the condition is False, it returns True.\n"
      ],
      "metadata": {
        "id": "QO3TIHp6g6iU"
      }
    },
    {
      "cell_type": "markdown",
      "source": [
        "## **9)What is type casting in Python?**\n",
        "Ans:-a)Type casting in Python refers to the process of converting a value from one data type to another. This is useful when you need to change the type of a variable to perform a specific operation or meet the requirements of a function.\n",
        "\n",
        "b)Type casting allows you to change the data type of a variable for different operations.\n",
        "\n"
      ],
      "metadata": {
        "id": "xFjOkD3mkhqO"
      }
    },
    {
      "cell_type": "markdown",
      "source": [
        "## **10)What is the difference between implicit and explicit type casting?**\n",
        "Ans:-In Python, type casting refers to the conversion of one data type into another. There are two types of type casting: implicit and explicit.\n",
        "\n",
        "a)Implicit Type Casting:-\n",
        "Implicit type casting, also known as coercion, is automatically done by the Python interpreter without any user intervention. Python automatically converts one data type to another when it is needed during an operation.\n",
        "\n",
        "b)Explicit type casting, also known as type conversion, is done manually by the programmer using built-in functions to convert one data type to another as per the requirement."
      ],
      "metadata": {
        "id": "im4LV6i4mGYB"
      }
    },
    {
      "cell_type": "markdown",
      "source": [
        "## **11)What is the purpose of conditional statements in Python?**\n",
        "Ans:-Conditional statements in Python are used to perform different actions or computations based on whether a certain condition is true or false. They allow the program to make decisions and execute code selectively, providing control over the program's flow. The primary purpose of conditional statements is to introduce decision-making capability into a program.\n",
        "\n",
        "Types of Conditional Statements in Python:\n",
        "\n",
        "a)if Statement: Executes a block of code if the condition is true.\n",
        "\n",
        "b)else Statement: Executes a block of code if the condition in the if statement is false.\n",
        "\n",
        "c)elif (else if) Statement: Checks another condition if the previous if condition was false.\n",
        "\n",
        "d)Nested Conditional Statements: Conditional statements inside other conditional statements.\n",
        "\n",
        "e)if-else Ternary Operator: A shorthand way of writing simple if-else statements.\n"
      ],
      "metadata": {
        "id": "2i7wM5hl_TDZ"
      }
    },
    {
      "cell_type": "markdown",
      "source": [
        "## **12)How does the elif statement work?**\n",
        "Ans:-The elif statement in Python is used as part of a conditional control structure to check multiple conditions in sequence. It stands for \"else if\" and allows you to handle additional conditions beyond the initial if statement. The elif statement is evaluated if the previous if (or elif) condition is false. If an elif condition is true, its corresponding block of code is executed, and the rest of the elif and else blocks are skipped."
      ],
      "metadata": {
        "id": "HrIkPZNZBBax"
      }
    },
    {
      "cell_type": "markdown",
      "source": [
        "## **13)What is the difference between for and while loops?**\n",
        "Ans:-In Python, both for and while loops are used to execute a block of code repeatedly, but they differ in their syntax, use cases, and how they control the flow of the loop.\n",
        "\n",
        "for Loop:-\n",
        "The for loop in Python iterates over a sequence (such as a list, tuple, string, or range) and executes the block of code for each element in the sequence.\n",
        "\n",
        "while Loop:-\n",
        "The while loop in Python repeatedly executes a block of code as long as a given condition is true."
      ],
      "metadata": {
        "id": "Q-6kl_ZlDG0r"
      }
    },
    {
      "cell_type": "markdown",
      "source": [
        "## **14)Describe a scenario where a while loop is more suitable than a for loop.**\n",
        "Ans:-A scenario where a while loop is more suitable than a for loop is when you need to perform an action repeatedly until a specific condition is met, and the number of iterations is not known beforehand.\n",
        "\n",
        "Example Scenario: User Input Validation\n",
        "Consider a scenario where you need to keep prompting the user to enter a valid password. The criteria for a valid password might be that it should be at least 8 characters long and contain at least one number. Since you don't know how many attempts the user will need to provide a valid password, a while loop is more appropriate than a for loop.\n",
        "\n",
        "Why while Loop is More Suitable:-\n",
        "a)Dynamic Conditions: The while loop is perfect for scenarios where the condition for continuation is dynamic and depends on user input or other real-time factors.\n",
        "\n",
        "b)Indefinite Iteration: Unlike a for loop, which iterates over a fixed range or collection, a while loop can handle an unknown number of iterations, making it ideal for situations where you need to keep checking a condition repeatedly.\n",
        "\n",
        "d)Flexibility: The while loop provides more flexibility in managing the loop's exit condition and can adapt to changing requirements during execution."
      ],
      "metadata": {
        "id": "LoYg4ykQEpvh"
      }
    },
    {
      "cell_type": "code",
      "execution_count": null,
      "metadata": {
        "id": "Zjf6c_-YJ0pr"
      },
      "outputs": [],
      "source": []
    },
    {
      "cell_type": "markdown",
      "source": [
        "# **Practical Questions**"
      ],
      "metadata": {
        "id": "fOnSNXrQJZ4b"
      }
    },
    {
      "cell_type": "markdown",
      "source": [
        "## 1)Write a Python program to print \"Hello, World!\"\n"
      ],
      "metadata": {
        "id": "pU129mn0jq83"
      }
    },
    {
      "cell_type": "code",
      "source": [
        "# prompt: print(\"Hello, World!\")\n",
        "\n",
        "print(\"Hello, World!\")"
      ],
      "metadata": {
        "colab": {
          "base_uri": "https://localhost:8080/"
        },
        "id": "ZAW96v6RjY8X",
        "outputId": "abf924ef-66e0-4fb5-d28f-d46235506670"
      },
      "execution_count": null,
      "outputs": [
        {
          "output_type": "stream",
          "name": "stdout",
          "text": [
            "Hello, World!\n"
          ]
        }
      ]
    },
    {
      "cell_type": "markdown",
      "source": [
        "## 2)Write a Python program that displays your name and age.\n"
      ],
      "metadata": {
        "id": "MMwoyWDoKk5E"
      }
    },
    {
      "cell_type": "code",
      "source": [
        "\n",
        "name = \"Shivam\"\n",
        "age = 21\n",
        "\n",
        "print(\"My name is Shivam and I am 21 years old.\")"
      ],
      "metadata": {
        "colab": {
          "base_uri": "https://localhost:8080/"
        },
        "id": "W8n7Gb7QjV8W",
        "outputId": "8501d2d8-8e8d-4c86-9813-fbbb386f9933"
      },
      "execution_count": null,
      "outputs": [
        {
          "output_type": "stream",
          "name": "stdout",
          "text": [
            "My name is Shivam and I am 21 years old.\n"
          ]
        }
      ]
    },
    {
      "cell_type": "markdown",
      "source": [
        "## 3)Write code to print all the pre-defined keywords in Python using the keyword library."
      ],
      "metadata": {
        "id": "IHCtHaKckUAg"
      }
    },
    {
      "cell_type": "code",
      "source": [
        "import keyword\n",
        "\n",
        "print(\"List of all Python keywords:\")\n",
        "print(keyword.kwlist)"
      ],
      "metadata": {
        "colab": {
          "base_uri": "https://localhost:8080/"
        },
        "id": "YjWI2NXxkfkz",
        "outputId": "e0e433b8-54a9-4faa-cc44-fe4bfa853239"
      },
      "execution_count": null,
      "outputs": [
        {
          "output_type": "stream",
          "name": "stdout",
          "text": [
            "List of all Python keywords:\n",
            "['False', 'None', 'True', 'and', 'as', 'assert', 'async', 'await', 'break', 'class', 'continue', 'def', 'del', 'elif', 'else', 'except', 'finally', 'for', 'from', 'global', 'if', 'import', 'in', 'is', 'lambda', 'nonlocal', 'not', 'or', 'pass', 'raise', 'return', 'try', 'while', 'with', 'yield']\n"
          ]
        }
      ]
    },
    {
      "cell_type": "markdown",
      "source": [
        "## 4)Write a program that checks if a given word is a Python keyword."
      ],
      "metadata": {
        "id": "c4wlH01Ak8Ti"
      }
    },
    {
      "cell_type": "code",
      "source": [
        "import keyword\n",
        "def is_keyword(word):\n",
        "    return keyword.iskeyword(word)\n",
        "word = input(\"Enter a word to check if it's a Python keyword: \")\n",
        "if is_keyword(word):\n",
        "    print(\"Is a Python keyword.\")\n",
        "else:\n",
        "    print(\"Is not a Python keyword.\")"
      ],
      "metadata": {
        "colab": {
          "base_uri": "https://localhost:8080/"
        },
        "id": "0zOK32GDlEIS",
        "outputId": "0741d413-a62f-48e2-a5d0-ae550277e2a5"
      },
      "execution_count": null,
      "outputs": [
        {
          "output_type": "stream",
          "name": "stdout",
          "text": [
            "Enter a word to check if it's a Python keyword: True\n",
            "Is a Python keyword.\n"
          ]
        }
      ]
    },
    {
      "cell_type": "markdown",
      "source": [
        "## 5)Create a list and tuple in Python, and demonstrate how attempting to change an element works differently for each."
      ],
      "metadata": {
        "id": "cBVIIVi7mLcd"
      }
    },
    {
      "cell_type": "code",
      "source": [
        "my_list = [1, 2, 3, 4, 5]\n",
        "\n",
        "# Creating a tuple\n",
        "my_tuple = (1, 2, 3, 4, 5)\n",
        "\n",
        "# Modifying an element in the list\n",
        "print(\"Original list:\", my_list)\n",
        "my_list[0] = 10\n",
        "print(\"Modified list:\", my_list)\n",
        "\n",
        "# Attempting to modify an element in the tuple\n",
        "print(\"Original tuple:\", my_tuple)\n",
        "try:\n",
        "    my_tuple[0] = 10\n",
        "\n",
        "except TypeError as e:\n",
        "    print(\"Error:\", e)"
      ],
      "metadata": {
        "colab": {
          "base_uri": "https://localhost:8080/"
        },
        "id": "EC08aC1smgTE",
        "outputId": "edf293d6-786e-45b6-ee04-3b5114d17fc8"
      },
      "execution_count": null,
      "outputs": [
        {
          "output_type": "stream",
          "name": "stdout",
          "text": [
            "Original list: [1, 2, 3, 4, 5]\n",
            "Modified list: [10, 2, 3, 4, 5]\n",
            "Original tuple: (1, 2, 3, 4, 5)\n",
            "Error: 'tuple' object does not support item assignment\n"
          ]
        }
      ]
    },
    {
      "cell_type": "markdown",
      "source": [
        "## 6)Write a function to demonstrate the behavior of mutable and immutable arguments."
      ],
      "metadata": {
        "id": "FKOyxQEFoJYb"
      }
    },
    {
      "cell_type": "code",
      "source": [
        "def modify_immutable(x):\n",
        "    x += 10\n",
        "    print(f\"Inside modify_immutable: x = {x}\")\n",
        "\n",
        "def modify_mutable(lst):\n",
        "    lst.append(10)\n",
        "    print(f\"Inside modify_mutable: lst = {lst}\")\n",
        "\n",
        "# Immutable argument\n",
        "num = 5\n",
        "print(f\"Before modify_immutable: num = {num}\")\n",
        "modify_immutable(num)\n",
        "print(f\"After modify_immutable: num = {num}\")\n",
        "\n",
        "print(\"\\n\")\n",
        "\n",
        "# Mutable argument\n",
        "my_list = [1, 2, 3]\n",
        "print(f\"Before modify_mutable: my_list = {my_list}\")\n",
        "modify_mutable(my_list)\n",
        "print(f\"After modify_mutable: my_list = {my_list}\")"
      ],
      "metadata": {
        "colab": {
          "base_uri": "https://localhost:8080/"
        },
        "id": "_9xUdg-eodLt",
        "outputId": "25049a06-74dc-4e68-ad34-feb6b6586cc4"
      },
      "execution_count": null,
      "outputs": [
        {
          "output_type": "stream",
          "name": "stdout",
          "text": [
            "Before modify_immutable: num = 5\n",
            "Inside modify_immutable: x = 15\n",
            "After modify_immutable: num = 5\n",
            "\n",
            "\n",
            "Before modify_mutable: my_list = [1, 2, 3]\n",
            "Inside modify_mutable: lst = [1, 2, 3, 10]\n",
            "After modify_mutable: my_list = [1, 2, 3, 10]\n"
          ]
        }
      ]
    },
    {
      "cell_type": "markdown",
      "source": [
        "## 7)Write a function to demonstrate the behavior of mutable and immutable arguments."
      ],
      "metadata": {
        "id": "oAjB0xNUscbw"
      }
    },
    {
      "cell_type": "code",
      "source": [
        "def modify_immutable(x):\n",
        "    x += 10\n",
        "    print(f\"Inside modify_immutable: x = {x}\")\n",
        "\n",
        "def modify_mutable(lst):\n",
        "    lst.append(10)\n",
        "    print(f\"Inside modify_mutable: lst = {lst}\")\n",
        "\n",
        "# Immutable argument\n",
        "num = 5\n",
        "print(f\"Before modify_immutable: num = {num}\")\n",
        "modify_immutable(num)\n",
        "print(f\"After modify_immutable: num = {num}\")\n",
        "\n",
        "print(\"\\n\")\n",
        "\n",
        "# Mutable argument\n",
        "my_list = [1, 2, 3]\n",
        "print(f\"Before modify_mutable: my_list = {my_list}\")\n",
        "modify_mutable(my_list)\n",
        "print(f\"After modify_mutable: my_list = {my_list}\")"
      ],
      "metadata": {
        "colab": {
          "base_uri": "https://localhost:8080/"
        },
        "id": "8l8iOKeMsb9F",
        "outputId": "9d1ce706-b4f5-407e-8a47-769500adc824"
      },
      "execution_count": null,
      "outputs": [
        {
          "output_type": "stream",
          "name": "stdout",
          "text": [
            "Before modify_immutable: num = 5\n",
            "Inside modify_immutable: x = 15\n",
            "After modify_immutable: num = 5\n",
            "\n",
            "\n",
            "Before modify_mutable: my_list = [1, 2, 3]\n",
            "Inside modify_mutable: lst = [1, 2, 3, 10]\n",
            "After modify_mutable: my_list = [1, 2, 3, 10]\n"
          ]
        }
      ]
    },
    {
      "cell_type": "markdown",
      "source": [
        "## 8)Write a program to demonstrate the use of logical operators."
      ],
      "metadata": {
        "id": "6eXT90dutwzH"
      }
    },
    {
      "cell_type": "code",
      "source": [
        "# Define some variables\n",
        "a = True\n",
        "b = False\n",
        "x = 10\n",
        "y = 20\n",
        "\n",
        "# Using 'and' operator\n",
        "print(\"Logical AND Operator:\")\n",
        "print(\"a and b:\", a and b)  # Both must be True\n",
        "print(\"x > 5 and y > 15:\", x > 5 and y > 15)\n",
        "print(\"x > 15 and y > 15:\", x > 15 and y > 15)\n",
        "\n",
        "# Using 'or' operator\n",
        "print(\"\\nLogical OR Operator:\")\n",
        "print(\"a or b:\", a or b)  # At least one must be True\n",
        "print(\"x > 15 or y > 15:\", x > 15 or y > 15)\n",
        "print(\"x > 15 or y > 25:\", x > 15 or y > 25)\n",
        "\n",
        "# Using 'not' operator\n",
        "print(\"\\nLogical NOT Operator:\")\n",
        "print(\"not a:\", not a)  # Inverts the value\n",
        "print(\"not b:\", not b)\n",
        "print(\"not (x > 15):\", not (x > 15))\n",
        "print(\"not (x < 15):\", not (x < 15))\n"
      ],
      "metadata": {
        "colab": {
          "base_uri": "https://localhost:8080/"
        },
        "id": "VbdzTTYVkEj-",
        "outputId": "7dbbceaf-d7fb-464b-82f2-ca4f21e85b94"
      },
      "execution_count": 1,
      "outputs": [
        {
          "output_type": "stream",
          "name": "stdout",
          "text": [
            "Logical AND Operator:\n",
            "a and b: False\n",
            "x > 5 and y > 15: True\n",
            "x > 15 and y > 15: False\n",
            "\n",
            "Logical OR Operator:\n",
            "a or b: True\n",
            "x > 15 or y > 15: True\n",
            "x > 15 or y > 25: False\n",
            "\n",
            "Logical NOT Operator:\n",
            "not a: False\n",
            "not b: True\n",
            "not (x > 15): True\n",
            "not (x < 15): False\n"
          ]
        }
      ]
    },
    {
      "cell_type": "markdown",
      "source": [
        "## 9)Write a Python program to convert user input from string to integer, float, and boolean types."
      ],
      "metadata": {
        "id": "ShpZ2F0Tl-9-"
      }
    },
    {
      "cell_type": "code",
      "source": [
        "def convert_to_int(user_input):\n",
        "    try:\n",
        "        return int(user_input)\n",
        "    except ValueError:\n",
        "        return \"Invalid input for integer conversion.\"\n",
        "\n",
        "def convert_to_float(user_input):\n",
        "    try:\n",
        "        return float(user_input)\n",
        "    except ValueError:\n",
        "        return \"Invalid input for float conversion.\"\n",
        "\n",
        "def convert_to_bool(user_input):\n",
        "    # For boolean, we consider 'true' and '1' as True; 'false' and '0' as False.\n",
        "    lower_input = user_input.lower()\n",
        "    if lower_input in ['true', '1']:\n",
        "        return True\n",
        "    elif lower_input in ['false', '0']:\n",
        "        return False\n",
        "    else:\n",
        "        return \"Invalid input for boolean conversion.\"\n",
        "\n",
        "# Get user input\n",
        "user_input = input(\"Enter a value: \")\n",
        "\n",
        "# Convert to different types\n",
        "int_value = convert_to_int(user_input)\n",
        "float_value = convert_to_float(user_input)\n",
        "bool_value = convert_to_bool(user_input)\n",
        "\n",
        "# Print the results\n",
        "print(f\"Original input: {user_input}\")\n",
        "print(f\"Converted to integer: {int_value}\")\n",
        "print(f\"Converted to float: {float_value}\")\n",
        "print(f\"Converted to boolean: {bool_value}\")\n"
      ],
      "metadata": {
        "colab": {
          "base_uri": "https://localhost:8080/"
        },
        "id": "MWf6aiDMmG3-",
        "outputId": "8f50627a-6aa7-4ac1-f9fe-6688f2f2ce43"
      },
      "execution_count": 4,
      "outputs": [
        {
          "output_type": "stream",
          "name": "stdout",
          "text": [
            "Enter a value: 45\n",
            "Original input: 45\n",
            "Converted to integer: 45\n",
            "Converted to float: 45.0\n",
            "Converted to boolean: Invalid input for boolean conversion.\n"
          ]
        }
      ]
    },
    {
      "cell_type": "markdown",
      "source": [
        "## 10)Write code to demonstrate type casting with list elements."
      ],
      "metadata": {
        "id": "PYmQWetVpKET"
      }
    },
    {
      "cell_type": "code",
      "source": [
        "# Define a list with mixed type elements as strings\n",
        "string_list = [\"1\", \"2.5\", \"True\", \"3\", \"4.0\", \"False\"]\n",
        "\n",
        "# Initialize empty lists to hold converted elements\n",
        "int_list = []\n",
        "float_list = []\n",
        "bool_list = []\n",
        "\n",
        "# Convert and store elements in respective lists\n",
        "for item in string_list:\n",
        "    # Convert to integer if possible\n",
        "    try:\n",
        "        int_value = int(float(item))  # Convert to float first to handle float strings like \"2.5\"\n",
        "        int_list.append(int_value)\n",
        "    except ValueError:\n",
        "        int_list.append(\"Invalid\")\n",
        "\n",
        "    # Convert to float if possible\n",
        "    try:\n",
        "        float_value = float(item)\n",
        "        float_list.append(float_value)\n",
        "    except ValueError:\n",
        "        float_list.append(\"Invalid\")\n",
        "\n",
        "    # Convert to boolean if possible\n",
        "    lower_item = item.lower()\n",
        "    if lower_item == 'true' or lower_item == '1':\n",
        "        bool_list.append(True)\n",
        "    elif lower_item == 'false' or lower_item == '0':\n",
        "        bool_list.append(False)\n",
        "    else:\n",
        "        bool_list.append(\"Invalid\")\n",
        "\n",
        "# Print original and converted lists\n",
        "print(\"Original list:\", string_list)\n",
        "print(\"Converted to integers:\", int_list)\n",
        "print(\"Converted to floats:\", float_list)\n",
        "print(\"Converted to booleans:\", bool_list)"
      ],
      "metadata": {
        "colab": {
          "base_uri": "https://localhost:8080/"
        },
        "id": "KjVA9jsRD9Xn",
        "outputId": "1aa846d5-adf0-4dca-b3f3-26052d82ccf9"
      },
      "execution_count": 1,
      "outputs": [
        {
          "output_type": "stream",
          "name": "stdout",
          "text": [
            "Original list: ['1', '2.5', 'True', '3', '4.0', 'False']\n",
            "Converted to integers: [1, 2, 'Invalid', 3, 4, 'Invalid']\n",
            "Converted to floats: [1.0, 2.5, 'Invalid', 3.0, 4.0, 'Invalid']\n",
            "Converted to booleans: [True, 'Invalid', True, 'Invalid', 'Invalid', False]\n"
          ]
        }
      ]
    },
    {
      "cell_type": "markdown",
      "source": [
        "## 11)Write a program that checks if a number is positive, negative, or zero."
      ],
      "metadata": {
        "id": "k8-D2BPeH9as"
      }
    },
    {
      "cell_type": "code",
      "source": [
        "# Function to check if the number is positive, negative, or zero\n",
        "def check_number(num):\n",
        "    if num > 0:\n",
        "        return \"The number is positive.\"\n",
        "    elif num < 0:\n",
        "        return \"The number is negative.\"\n",
        "    else:\n",
        "        return \"The number is zero.\"\n",
        "\n",
        "# Prompt the user to input a number\n",
        "try:\n",
        "    user_input = float(input(\"Enter a number: \"))\n",
        "    result = check_number(user_input)\n",
        "except ValueError:\n",
        "    result = \"Invalid input. Please enter a valid number.\"\n",
        "\n",
        "# Print the result\n",
        "print(result)"
      ],
      "metadata": {
        "colab": {
          "base_uri": "https://localhost:8080/"
        },
        "id": "gZbJzQUVJTt3",
        "outputId": "4a4675bb-6bc3-45c4-e09f-c79b40c35a59"
      },
      "execution_count": 4,
      "outputs": [
        {
          "output_type": "stream",
          "name": "stdout",
          "text": [
            "Enter a number: 33\n",
            "The number is positive.\n"
          ]
        }
      ]
    },
    {
      "cell_type": "markdown",
      "source": [
        "## 12)Write a for loop to print numbers from 1 to 100"
      ],
      "metadata": {
        "id": "BxZxw6SQJkbH"
      }
    },
    {
      "cell_type": "code",
      "source": [
        "for i in range(1, 101):\n",
        "    print(i)"
      ],
      "metadata": {
        "colab": {
          "base_uri": "https://localhost:8080/"
        },
        "id": "nZbkxd3_JkEm",
        "outputId": "b8680c70-9c2a-4c68-b6f6-ab433ff19c88"
      },
      "execution_count": 5,
      "outputs": [
        {
          "output_type": "stream",
          "name": "stdout",
          "text": [
            "1\n",
            "2\n",
            "3\n",
            "4\n",
            "5\n",
            "6\n",
            "7\n",
            "8\n",
            "9\n",
            "10\n",
            "11\n",
            "12\n",
            "13\n",
            "14\n",
            "15\n",
            "16\n",
            "17\n",
            "18\n",
            "19\n",
            "20\n",
            "21\n",
            "22\n",
            "23\n",
            "24\n",
            "25\n",
            "26\n",
            "27\n",
            "28\n",
            "29\n",
            "30\n",
            "31\n",
            "32\n",
            "33\n",
            "34\n",
            "35\n",
            "36\n",
            "37\n",
            "38\n",
            "39\n",
            "40\n",
            "41\n",
            "42\n",
            "43\n",
            "44\n",
            "45\n",
            "46\n",
            "47\n",
            "48\n",
            "49\n",
            "50\n",
            "51\n",
            "52\n",
            "53\n",
            "54\n",
            "55\n",
            "56\n",
            "57\n",
            "58\n",
            "59\n",
            "60\n",
            "61\n",
            "62\n",
            "63\n",
            "64\n",
            "65\n",
            "66\n",
            "67\n",
            "68\n",
            "69\n",
            "70\n",
            "71\n",
            "72\n",
            "73\n",
            "74\n",
            "75\n",
            "76\n",
            "77\n",
            "78\n",
            "79\n",
            "80\n",
            "81\n",
            "82\n",
            "83\n",
            "84\n",
            "85\n",
            "86\n",
            "87\n",
            "88\n",
            "89\n",
            "90\n",
            "91\n",
            "92\n",
            "93\n",
            "94\n",
            "95\n",
            "96\n",
            "97\n",
            "98\n",
            "99\n",
            "100\n"
          ]
        }
      ]
    },
    {
      "cell_type": "markdown",
      "source": [
        "## 13)Write a Python program to find the sum of all even numbers between 1 and 50."
      ],
      "metadata": {
        "id": "SKOykTE0KP2L"
      }
    },
    {
      "cell_type": "code",
      "source": [
        "# Initialize the sum to 0\n",
        "sum_of_evens = 0\n",
        "\n",
        "# Iterate over the range of numbers from 1 to 50\n",
        "for num in range(1, 51):\n",
        "    # Check if the number is even\n",
        "    if num % 2 == 0:\n",
        "        # Add the even number to the sum\n",
        "        sum_of_evens += num\n",
        "\n",
        "# Print the result\n",
        "print(\"The sum of all even numbers between 1 and 50 is:\", sum_of_evens)"
      ],
      "metadata": {
        "colab": {
          "base_uri": "https://localhost:8080/"
        },
        "id": "HRuhVbV8KXIr",
        "outputId": "aef0c389-368e-4a0e-c325-c10187e207ed"
      },
      "execution_count": 6,
      "outputs": [
        {
          "output_type": "stream",
          "name": "stdout",
          "text": [
            "The sum of all even numbers between 1 and 50 is: 650\n"
          ]
        }
      ]
    },
    {
      "cell_type": "markdown",
      "source": [
        "## 14)Write a program to reverse a string using a while loop."
      ],
      "metadata": {
        "id": "BfK_7RipLcv5"
      }
    },
    {
      "cell_type": "code",
      "source": [
        "# Function to reverse a string using a while loop\n",
        "def reverse_string(input_string):\n",
        "    reversed_string = \"\"  # Initialize an empty string to store the reversed string\n",
        "    index = len(input_string) - 1  # Start with the last index of the string\n",
        "\n",
        "    # Use a while loop to iterate through the string from the last character to the first\n",
        "    while index >= 0:\n",
        "        reversed_string += input_string[index]  # Add the character at the current index to the reversed string\n",
        "        index -= 1  # Move to the previous character\n",
        "\n",
        "    return reversed_string\n",
        "\n",
        "# Prompt the user to input a string\n",
        "user_input = input(\"Enter a string: \")\n",
        "\n",
        "# Call the function and print the reversed string\n",
        "reversed_str = reverse_string(user_input)\n",
        "print(\"Reversed string:\", reversed_str)"
      ],
      "metadata": {
        "colab": {
          "base_uri": "https://localhost:8080/"
        },
        "id": "cIkyQFuVMhrj",
        "outputId": "558e019f-c4d1-4616-d8e3-afe3d9f9c399"
      },
      "execution_count": 7,
      "outputs": [
        {
          "output_type": "stream",
          "name": "stdout",
          "text": [
            "Enter a string: Mumbai\n",
            "Reversed string: iabmuM\n"
          ]
        }
      ]
    },
    {
      "cell_type": "markdown",
      "source": [
        "## 15)Write a Python program to calculate the factorial of a number provided by the user using a while loop"
      ],
      "metadata": {
        "id": "wlf6NrmjM_D9"
      }
    },
    {
      "cell_type": "code",
      "source": [
        "# Function to calculate the factorial using a while loop\n",
        "def factorial(n):\n",
        "    result = 1  # Initialize the result variable\n",
        "    while n > 1:\n",
        "        result *= n  # Multiply the result by the current value of n\n",
        "        n -= 1  # Decrease n by 1 in each iteration\n",
        "    return result\n",
        "\n",
        "# Prompt the user to input a number\n",
        "try:\n",
        "    user_input = int(input(\"Enter a number to calculate its factorial: \"))\n",
        "    if user_input < 0:\n",
        "        print(\"Factorial is not defined for negative numbers.\")\n",
        "    else:\n",
        "        # Call the factorial function and print the result\n",
        "        print(f\"The factorial of {user_input} is {factorial(user_input)}\")\n",
        "except ValueError:\n",
        "    print(\"Please enter a valid integer.\")"
      ],
      "metadata": {
        "colab": {
          "base_uri": "https://localhost:8080/"
        },
        "id": "1gFebxVyM8yN",
        "outputId": "1307ca6b-9eb2-4e24-d71b-1428164890d4"
      },
      "execution_count": 8,
      "outputs": [
        {
          "output_type": "stream",
          "name": "stdout",
          "text": [
            "Enter a number to calculate its factorial: 5\n",
            "The factorial of 5 is 120\n"
          ]
        }
      ]
    }
  ]
}